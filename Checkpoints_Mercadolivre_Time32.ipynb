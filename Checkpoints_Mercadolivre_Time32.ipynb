{
 "cells": [
  {
   "cell_type": "markdown",
   "metadata": {},
   "source": [
    "# Desafio 4 - Mercado Livre- Mega Hack 3.0 "
   ]
  },
  {
   "cell_type": "markdown",
   "metadata": {},
   "source": [
    "## Sumário "
   ]
  },
  {
   "cell_type": "markdown",
   "metadata": {},
   "source": [
    "* 1.0 - Prefácio.\n",
    "* 1.1 - Introdução\n",
    "* 2.0 - Importando os dados.\n",
    "* 2.1 - Carregandos os dados. \n",
    "* 2.2 - Explorando os dados.\n",
    "* 2.3 - Identificando dados Nulos\n",
    "* 3.0 - Entendendo os dados \n",
    "* 4.0 Conclusão:"
   ]
  },
  {
   "cell_type": "markdown",
   "metadata": {},
   "source": [
    " ## 1.0 - Prefácio.\n",
    "    \n",
    "         O desenvolvimento de tecnologias trouxeram bastantes benefícios para pessoas; além disso,tornou \n",
    "      o mundo ainda mais globalizado, hoje em dia fazemos compramos em outros países, assistirmos filmes,\n",
    "      conversamos pela Whatsapp,isso foi grande avanço. Nos dias atuais, estamos passando por outro \n",
    "      revolução que os dados.\n",
    "         Os dados hoje, são a principal riqueza das empresas, diante disso pode-se saber o que o cliente \n",
    "      gosta de comprar, descobrir fraude de contratos, prever crescimento de uma empresa e prever crime."
   ]
  },
  {
   "cell_type": "markdown",
   "metadata": {},
   "source": [
    "## 1.1 - Introdução.\n",
    "    \n",
    "        O objetivo deste, projeto é coletar dados de diversos tipos de formatos sobre os clientes,de forma \n",
    "     que possam ser analisados para prevenir contra fraudes nas compras.Esses dados serão confrontados de \n",
    "     várias formas até que sejam compravados algum tipo de crime cometidos. Abaixo apresentamos uma das \n",
    "     formas de dados, que podem ser analisadas para combate os crimes virtuais."
   ]
  },
  {
   "cell_type": "markdown",
   "metadata": {},
   "source": [
    "## 2.0- Importando as bibliotecas "
   ]
  },
  {
   "cell_type": "code",
   "execution_count": 2,
   "metadata": {},
   "outputs": [],
   "source": [
    "#bibliotecas de análise \n",
    "import  pandas as pd \n",
    "import numpy as np \n",
    "\n",
    "#bibliotecas de visualização \n",
    "import matplotlib.pyplot as plt\n",
    "import seaborn as sns\n",
    "%matplotlib inline\n",
    "\n",
    "#biblioteca de linguagem processamento textual em python\n",
    "import nltk \n",
    "#nltk.download()"
   ]
  },
  {
   "cell_type": "markdown",
   "metadata": {},
   "source": [
    "## 2.1- Carregar os dados  "
   ]
  },
  {
   "cell_type": "code",
   "execution_count": 3,
   "metadata": {},
   "outputs": [],
   "source": [
    "#carregando os dados \n",
    "df_test = pd.read_csv('test.csv') \n"
   ]
  },
  {
   "cell_type": "markdown",
   "metadata": {},
   "source": [
    "## 2.2 -Explorando os dados "
   ]
  },
  {
   "cell_type": "code",
   "execution_count": 4,
   "metadata": {},
   "outputs": [
    {
     "data": {
      "text/html": [
       "<div>\n",
       "<style scoped>\n",
       "    .dataframe tbody tr th:only-of-type {\n",
       "        vertical-align: middle;\n",
       "    }\n",
       "\n",
       "    .dataframe tbody tr th {\n",
       "        vertical-align: top;\n",
       "    }\n",
       "\n",
       "    .dataframe thead th {\n",
       "        text-align: right;\n",
       "    }\n",
       "</style>\n",
       "<table border=\"1\" class=\"dataframe\">\n",
       "  <thead>\n",
       "    <tr style=\"text-align: right;\">\n",
       "      <th></th>\n",
       "      <th>id</th>\n",
       "      <th>title</th>\n",
       "      <th>language</th>\n",
       "    </tr>\n",
       "  </thead>\n",
       "  <tbody>\n",
       "    <tr>\n",
       "      <th>0</th>\n",
       "      <td>0</td>\n",
       "      <td>Kit Maternidade Bolsa-mala Baby/bebe Vinho Men...</td>\n",
       "      <td>portuguese</td>\n",
       "    </tr>\n",
       "    <tr>\n",
       "      <th>1</th>\n",
       "      <td>1</td>\n",
       "      <td>Trocador De Fraldas Fisher Price Feminino Rosa...</td>\n",
       "      <td>portuguese</td>\n",
       "    </tr>\n",
       "    <tr>\n",
       "      <th>2</th>\n",
       "      <td>2</td>\n",
       "      <td>Motor Ventoinha - Fiat Idea / Palio 1.8 - A 04...</td>\n",
       "      <td>portuguese</td>\n",
       "    </tr>\n",
       "    <tr>\n",
       "      <th>3</th>\n",
       "      <td>3</td>\n",
       "      <td>Amortecedor Mola Batente D Dir New Civic 14 - ...</td>\n",
       "      <td>portuguese</td>\n",
       "    </tr>\n",
       "    <tr>\n",
       "      <th>4</th>\n",
       "      <td>4</td>\n",
       "      <td>Cadeirinha De Carro Bebê Princesa Princess 9 A...</td>\n",
       "      <td>portuguese</td>\n",
       "    </tr>\n",
       "    <tr>\n",
       "      <th>5</th>\n",
       "      <td>5</td>\n",
       "      <td>Cabo Freio Mao Tras Direito Vw Up Cod 1s060972...</td>\n",
       "      <td>portuguese</td>\n",
       "    </tr>\n",
       "    <tr>\n",
       "      <th>6</th>\n",
       "      <td>6</td>\n",
       "      <td>Mini Pc Dell Optiplex Fx160 Atom 2gb Ram Ssd 1...</td>\n",
       "      <td>portuguese</td>\n",
       "    </tr>\n",
       "    <tr>\n",
       "      <th>7</th>\n",
       "      <td>7</td>\n",
       "      <td>Kit Bi Xenon Lâmpada H4 8000k</td>\n",
       "      <td>portuguese</td>\n",
       "    </tr>\n",
       "    <tr>\n",
       "      <th>8</th>\n",
       "      <td>8</td>\n",
       "      <td>Protetor Pé Botinha-kickboxing Karate Taekwond...</td>\n",
       "      <td>portuguese</td>\n",
       "    </tr>\n",
       "    <tr>\n",
       "      <th>9</th>\n",
       "      <td>9</td>\n",
       "      <td>Disco Rigido Externo Western Digital Elements ...</td>\n",
       "      <td>spanish</td>\n",
       "    </tr>\n",
       "    <tr>\n",
       "      <th>10</th>\n",
       "      <td>10</td>\n",
       "      <td>Picadora De Carne Fineschi Legitima 32</td>\n",
       "      <td>spanish</td>\n",
       "    </tr>\n",
       "    <tr>\n",
       "      <th>11</th>\n",
       "      <td>11</td>\n",
       "      <td>Saída Maternidade 1 Manta 2vestidos 2calças +b...</td>\n",
       "      <td>portuguese</td>\n",
       "    </tr>\n",
       "    <tr>\n",
       "      <th>12</th>\n",
       "      <td>12</td>\n",
       "      <td>Jogo Vela Ignicao Ngk Mercedes Benz 08/11 Clc ...</td>\n",
       "      <td>portuguese</td>\n",
       "    </tr>\n",
       "    <tr>\n",
       "      <th>13</th>\n",
       "      <td>13</td>\n",
       "      <td>Modulo De Injeção Fox Flex 1.6 032 906 032 Aa</td>\n",
       "      <td>portuguese</td>\n",
       "    </tr>\n",
       "    <tr>\n",
       "      <th>14</th>\n",
       "      <td>14</td>\n",
       "      <td>Set Barreta Automotor Bremen X3 Unid. 6756 20 ...</td>\n",
       "      <td>spanish</td>\n",
       "    </tr>\n",
       "    <tr>\n",
       "      <th>15</th>\n",
       "      <td>15</td>\n",
       "      <td>Miel Organica X250gr. (sin Tacc)</td>\n",
       "      <td>spanish</td>\n",
       "    </tr>\n",
       "    <tr>\n",
       "      <th>16</th>\n",
       "      <td>16</td>\n",
       "      <td>Sax Tenor Coon 37m</td>\n",
       "      <td>portuguese</td>\n",
       "    </tr>\n",
       "    <tr>\n",
       "      <th>17</th>\n",
       "      <td>17</td>\n",
       "      <td>Sapato Seguranca Vaqueta Bidensidade Com Bique...</td>\n",
       "      <td>portuguese</td>\n",
       "    </tr>\n",
       "    <tr>\n",
       "      <th>18</th>\n",
       "      <td>18</td>\n",
       "      <td>200 Adaptador Para Cartão De Memória Micro Sd ...</td>\n",
       "      <td>portuguese</td>\n",
       "    </tr>\n",
       "    <tr>\n",
       "      <th>19</th>\n",
       "      <td>19</td>\n",
       "      <td>Bandeja Giradiscos Omnitronic Bd1320</td>\n",
       "      <td>spanish</td>\n",
       "    </tr>\n",
       "    <tr>\n",
       "      <th>20</th>\n",
       "      <td>20</td>\n",
       "      <td>Tonfa Militar</td>\n",
       "      <td>portuguese</td>\n",
       "    </tr>\n",
       "    <tr>\n",
       "      <th>21</th>\n",
       "      <td>21</td>\n",
       "      <td>Kit Almohadones Y Funda 2 Respaldos + 2 Carame...</td>\n",
       "      <td>spanish</td>\n",
       "    </tr>\n",
       "    <tr>\n",
       "      <th>22</th>\n",
       "      <td>22</td>\n",
       "      <td>Parlante Portatil Hp Mini Roar Bluetooth 2,5w ...</td>\n",
       "      <td>spanish</td>\n",
       "    </tr>\n",
       "    <tr>\n",
       "      <th>23</th>\n",
       "      <td>23</td>\n",
       "      <td>Tubos Pelotas Slazenger Wimbledon - Promo Enví...</td>\n",
       "      <td>spanish</td>\n",
       "    </tr>\n",
       "    <tr>\n",
       "      <th>24</th>\n",
       "      <td>24</td>\n",
       "      <td>Sapata De Freio (jg) Escort Zetec 1.8 16v 97/....</td>\n",
       "      <td>portuguese</td>\n",
       "    </tr>\n",
       "    <tr>\n",
       "      <th>25</th>\n",
       "      <td>25</td>\n",
       "      <td>Ukelele Electroacustico Baritono Alpujarra Tub...</td>\n",
       "      <td>spanish</td>\n",
       "    </tr>\n",
       "    <tr>\n",
       "      <th>26</th>\n",
       "      <td>26</td>\n",
       "      <td>Aire Split Frio Calor 5332f / 6200w Fedders Ms...</td>\n",
       "      <td>spanish</td>\n",
       "    </tr>\n",
       "    <tr>\n",
       "      <th>27</th>\n",
       "      <td>27</td>\n",
       "      <td>Piedritas Sanitarias Stone Cat X 24kg ¡¡ Aglom...</td>\n",
       "      <td>spanish</td>\n",
       "    </tr>\n",
       "    <tr>\n",
       "      <th>28</th>\n",
       "      <td>28</td>\n",
       "      <td>Arte De Bordar N 5 Alfabetos Em Ponto Cruz</td>\n",
       "      <td>portuguese</td>\n",
       "    </tr>\n",
       "    <tr>\n",
       "      <th>29</th>\n",
       "      <td>29</td>\n",
       "      <td>Mascara Fotosensible Careta Soldar Ploteo Fueg...</td>\n",
       "      <td>spanish</td>\n",
       "    </tr>\n",
       "    <tr>\n",
       "      <th>...</th>\n",
       "      <td>...</td>\n",
       "      <td>...</td>\n",
       "      <td>...</td>\n",
       "    </tr>\n",
       "    <tr>\n",
       "      <th>246925</th>\n",
       "      <td>246925</td>\n",
       "      <td>Bota Industrial Calfor Pampeana</td>\n",
       "      <td>spanish</td>\n",
       "    </tr>\n",
       "    <tr>\n",
       "      <th>246926</th>\n",
       "      <td>246926</td>\n",
       "      <td>Vestido Novia Importado En Encaje Y Chiffon Bl...</td>\n",
       "      <td>spanish</td>\n",
       "    </tr>\n",
       "    <tr>\n",
       "      <th>246927</th>\n",
       "      <td>246927</td>\n",
       "      <td>Paralama Direito Polo 2008</td>\n",
       "      <td>portuguese</td>\n",
       "    </tr>\n",
       "    <tr>\n",
       "      <th>246928</th>\n",
       "      <td>246928</td>\n",
       "      <td>Indio Gigante Ovos Galados/ferteis A Nossa Duz...</td>\n",
       "      <td>portuguese</td>\n",
       "    </tr>\n",
       "    <tr>\n",
       "      <th>246929</th>\n",
       "      <td>246929</td>\n",
       "      <td>Kit 36 Canudo Longo De Vidro Reutilizável Reto...</td>\n",
       "      <td>portuguese</td>\n",
       "    </tr>\n",
       "    <tr>\n",
       "      <th>246930</th>\n",
       "      <td>246930</td>\n",
       "      <td>Silla Mecedora Bebe Con Vibracion Sonido Jugue...</td>\n",
       "      <td>spanish</td>\n",
       "    </tr>\n",
       "    <tr>\n",
       "      <th>246931</th>\n",
       "      <td>246931</td>\n",
       "      <td>Par Lâmpada Philips Led Fog Ultinon 6200k H8 H...</td>\n",
       "      <td>portuguese</td>\n",
       "    </tr>\n",
       "    <tr>\n",
       "      <th>246932</th>\n",
       "      <td>246932</td>\n",
       "      <td>Inalador Nebulizador Ultrassônico Portatil Pro...</td>\n",
       "      <td>portuguese</td>\n",
       "    </tr>\n",
       "    <tr>\n",
       "      <th>246933</th>\n",
       "      <td>246933</td>\n",
       "      <td>Cinta Correctora Estilo De La Pluma, De Líneas...</td>\n",
       "      <td>spanish</td>\n",
       "    </tr>\n",
       "    <tr>\n",
       "      <th>246934</th>\n",
       "      <td>246934</td>\n",
       "      <td>Tanque Nafta Corsa Clasicc</td>\n",
       "      <td>spanish</td>\n",
       "    </tr>\n",
       "    <tr>\n",
       "      <th>246935</th>\n",
       "      <td>246935</td>\n",
       "      <td>Contrabaixo Strinberg Cab16 - 4 Cordas Sunburst</td>\n",
       "      <td>portuguese</td>\n",
       "    </tr>\n",
       "    <tr>\n",
       "      <th>246936</th>\n",
       "      <td>246936</td>\n",
       "      <td>Muy Linda Cinta Athletic A Reparar</td>\n",
       "      <td>spanish</td>\n",
       "    </tr>\n",
       "    <tr>\n",
       "      <th>246937</th>\n",
       "      <td>246937</td>\n",
       "      <td>Portalampara Con Chicote Pack 10 Unidades</td>\n",
       "      <td>spanish</td>\n",
       "    </tr>\n",
       "    <tr>\n",
       "      <th>246938</th>\n",
       "      <td>246938</td>\n",
       "      <td>Revista Formula 1 F1 50 Anos Dourados Raridade</td>\n",
       "      <td>portuguese</td>\n",
       "    </tr>\n",
       "    <tr>\n",
       "      <th>246939</th>\n",
       "      <td>246939</td>\n",
       "      <td>Kit De Bixenon H4 12v 8000k Hid Xenon Kith4-8k</td>\n",
       "      <td>spanish</td>\n",
       "    </tr>\n",
       "    <tr>\n",
       "      <th>246940</th>\n",
       "      <td>246940</td>\n",
       "      <td>Solia De Viraró Seco De Horno De 12mm. De Espesor</td>\n",
       "      <td>spanish</td>\n",
       "    </tr>\n",
       "    <tr>\n",
       "      <th>246941</th>\n",
       "      <td>246941</td>\n",
       "      <td>Ena Shaker Premium Vaso</td>\n",
       "      <td>spanish</td>\n",
       "    </tr>\n",
       "    <tr>\n",
       "      <th>246942</th>\n",
       "      <td>246942</td>\n",
       "      <td>Interruptor Vidro Traseiro Jeep Grand Cherokee...</td>\n",
       "      <td>portuguese</td>\n",
       "    </tr>\n",
       "    <tr>\n",
       "      <th>246943</th>\n",
       "      <td>246943</td>\n",
       "      <td>Cadeira Com Mochila Dobrável Camuflada Marine ...</td>\n",
       "      <td>portuguese</td>\n",
       "    </tr>\n",
       "    <tr>\n",
       "      <th>246944</th>\n",
       "      <td>246944</td>\n",
       "      <td>Controle Universal Para Split</td>\n",
       "      <td>portuguese</td>\n",
       "    </tr>\n",
       "    <tr>\n",
       "      <th>246945</th>\n",
       "      <td>246945</td>\n",
       "      <td>Aplique Acab Soleira Esq Outlander 10  6716 R4</td>\n",
       "      <td>portuguese</td>\n",
       "    </tr>\n",
       "    <tr>\n",
       "      <th>246946</th>\n",
       "      <td>246946</td>\n",
       "      <td>Set X 6 Repuesto Para Canasta De Inodoro Liqui...</td>\n",
       "      <td>spanish</td>\n",
       "    </tr>\n",
       "    <tr>\n",
       "      <th>246947</th>\n",
       "      <td>246947</td>\n",
       "      <td>Chaleco C/patente 7 Digitos Y 6 Calcos P/casco...</td>\n",
       "      <td>spanish</td>\n",
       "    </tr>\n",
       "    <tr>\n",
       "      <th>246948</th>\n",
       "      <td>246948</td>\n",
       "      <td>Farol Mascara Negra Astra 1998 1999 2000 2001 ...</td>\n",
       "      <td>portuguese</td>\n",
       "    </tr>\n",
       "    <tr>\n",
       "      <th>246949</th>\n",
       "      <td>246949</td>\n",
       "      <td>Polea De Goma Expansible Aluminio P/amoladora ...</td>\n",
       "      <td>spanish</td>\n",
       "    </tr>\n",
       "    <tr>\n",
       "      <th>246950</th>\n",
       "      <td>246950</td>\n",
       "      <td>Disco Freno Delantero Ford Escort 88/94 Nuevo</td>\n",
       "      <td>spanish</td>\n",
       "    </tr>\n",
       "    <tr>\n",
       "      <th>246951</th>\n",
       "      <td>246951</td>\n",
       "      <td>Radio Comunicador Walk Talk Baofeng 777s Profi...</td>\n",
       "      <td>portuguese</td>\n",
       "    </tr>\n",
       "    <tr>\n",
       "      <th>246952</th>\n",
       "      <td>246952</td>\n",
       "      <td>Calculadora De Escritorio Grande 150$</td>\n",
       "      <td>spanish</td>\n",
       "    </tr>\n",
       "    <tr>\n",
       "      <th>246953</th>\n",
       "      <td>246953</td>\n",
       "      <td>Conj Mesa P/ Sala De Jantar C/ 06 Cadeiras Ams...</td>\n",
       "      <td>portuguese</td>\n",
       "    </tr>\n",
       "    <tr>\n",
       "      <th>246954</th>\n",
       "      <td>246954</td>\n",
       "      <td>Cesto Residuos Tacho Basura Automatico 30l + 1...</td>\n",
       "      <td>spanish</td>\n",
       "    </tr>\n",
       "  </tbody>\n",
       "</table>\n",
       "<p>246955 rows × 3 columns</p>\n",
       "</div>"
      ],
      "text/plain": [
       "            id                                              title    language\n",
       "0            0  Kit Maternidade Bolsa-mala Baby/bebe Vinho Men...  portuguese\n",
       "1            1  Trocador De Fraldas Fisher Price Feminino Rosa...  portuguese\n",
       "2            2  Motor Ventoinha - Fiat Idea / Palio 1.8 - A 04...  portuguese\n",
       "3            3  Amortecedor Mola Batente D Dir New Civic 14 - ...  portuguese\n",
       "4            4  Cadeirinha De Carro Bebê Princesa Princess 9 A...  portuguese\n",
       "5            5  Cabo Freio Mao Tras Direito Vw Up Cod 1s060972...  portuguese\n",
       "6            6  Mini Pc Dell Optiplex Fx160 Atom 2gb Ram Ssd 1...  portuguese\n",
       "7            7                      Kit Bi Xenon Lâmpada H4 8000k  portuguese\n",
       "8            8  Protetor Pé Botinha-kickboxing Karate Taekwond...  portuguese\n",
       "9            9  Disco Rigido Externo Western Digital Elements ...     spanish\n",
       "10          10             Picadora De Carne Fineschi Legitima 32     spanish\n",
       "11          11  Saída Maternidade 1 Manta 2vestidos 2calças +b...  portuguese\n",
       "12          12  Jogo Vela Ignicao Ngk Mercedes Benz 08/11 Clc ...  portuguese\n",
       "13          13      Modulo De Injeção Fox Flex 1.6 032 906 032 Aa  portuguese\n",
       "14          14  Set Barreta Automotor Bremen X3 Unid. 6756 20 ...     spanish\n",
       "15          15                   Miel Organica X250gr. (sin Tacc)     spanish\n",
       "16          16                                Sax Tenor Coon 37m   portuguese\n",
       "17          17  Sapato Seguranca Vaqueta Bidensidade Com Bique...  portuguese\n",
       "18          18  200 Adaptador Para Cartão De Memória Micro Sd ...  portuguese\n",
       "19          19               Bandeja Giradiscos Omnitronic Bd1320     spanish\n",
       "20          20                                      Tonfa Militar  portuguese\n",
       "21          21  Kit Almohadones Y Funda 2 Respaldos + 2 Carame...     spanish\n",
       "22          22  Parlante Portatil Hp Mini Roar Bluetooth 2,5w ...     spanish\n",
       "23          23  Tubos Pelotas Slazenger Wimbledon - Promo Enví...     spanish\n",
       "24          24  Sapata De Freio (jg) Escort Zetec 1.8 16v 97/....  portuguese\n",
       "25          25  Ukelele Electroacustico Baritono Alpujarra Tub...     spanish\n",
       "26          26  Aire Split Frio Calor 5332f / 6200w Fedders Ms...     spanish\n",
       "27          27  Piedritas Sanitarias Stone Cat X 24kg ¡¡ Aglom...     spanish\n",
       "28          28         Arte De Bordar N 5 Alfabetos Em Ponto Cruz  portuguese\n",
       "29          29  Mascara Fotosensible Careta Soldar Ploteo Fueg...     spanish\n",
       "...        ...                                                ...         ...\n",
       "246925  246925                    Bota Industrial Calfor Pampeana     spanish\n",
       "246926  246926  Vestido Novia Importado En Encaje Y Chiffon Bl...     spanish\n",
       "246927  246927                         Paralama Direito Polo 2008  portuguese\n",
       "246928  246928  Indio Gigante Ovos Galados/ferteis A Nossa Duz...  portuguese\n",
       "246929  246929  Kit 36 Canudo Longo De Vidro Reutilizável Reto...  portuguese\n",
       "246930  246930  Silla Mecedora Bebe Con Vibracion Sonido Jugue...     spanish\n",
       "246931  246931  Par Lâmpada Philips Led Fog Ultinon 6200k H8 H...  portuguese\n",
       "246932  246932  Inalador Nebulizador Ultrassônico Portatil Pro...  portuguese\n",
       "246933  246933  Cinta Correctora Estilo De La Pluma, De Líneas...     spanish\n",
       "246934  246934                        Tanque Nafta Corsa Clasicc      spanish\n",
       "246935  246935    Contrabaixo Strinberg Cab16 - 4 Cordas Sunburst  portuguese\n",
       "246936  246936                 Muy Linda Cinta Athletic A Reparar     spanish\n",
       "246937  246937          Portalampara Con Chicote Pack 10 Unidades     spanish\n",
       "246938  246938     Revista Formula 1 F1 50 Anos Dourados Raridade  portuguese\n",
       "246939  246939     Kit De Bixenon H4 12v 8000k Hid Xenon Kith4-8k     spanish\n",
       "246940  246940  Solia De Viraró Seco De Horno De 12mm. De Espesor     spanish\n",
       "246941  246941                           Ena Shaker Premium Vaso      spanish\n",
       "246942  246942  Interruptor Vidro Traseiro Jeep Grand Cherokee...  portuguese\n",
       "246943  246943  Cadeira Com Mochila Dobrável Camuflada Marine ...  portuguese\n",
       "246944  246944                      Controle Universal Para Split  portuguese\n",
       "246945  246945     Aplique Acab Soleira Esq Outlander 10  6716 R4  portuguese\n",
       "246946  246946  Set X 6 Repuesto Para Canasta De Inodoro Liqui...     spanish\n",
       "246947  246947  Chaleco C/patente 7 Digitos Y 6 Calcos P/casco...     spanish\n",
       "246948  246948  Farol Mascara Negra Astra 1998 1999 2000 2001 ...  portuguese\n",
       "246949  246949  Polea De Goma Expansible Aluminio P/amoladora ...     spanish\n",
       "246950  246950      Disco Freno Delantero Ford Escort 88/94 Nuevo     spanish\n",
       "246951  246951  Radio Comunicador Walk Talk Baofeng 777s Profi...  portuguese\n",
       "246952  246952              Calculadora De Escritorio Grande 150$     spanish\n",
       "246953  246953  Conj Mesa P/ Sala De Jantar C/ 06 Cadeiras Ams...  portuguese\n",
       "246954  246954  Cesto Residuos Tacho Basura Automatico 30l + 1...     spanish\n",
       "\n",
       "[246955 rows x 3 columns]"
      ]
     },
     "execution_count": 4,
     "metadata": {},
     "output_type": "execute_result"
    }
   ],
   "source": [
    "df_test"
   ]
  },
  {
   "cell_type": "markdown",
   "metadata": {},
   "source": [
    "## 2.3 Identificando dados Nulos"
   ]
  },
  {
   "cell_type": "code",
   "execution_count": 5,
   "metadata": {},
   "outputs": [
    {
     "data": {
      "text/plain": [
       "<matplotlib.axes._subplots.AxesSubplot at 0x1a1ba63d50>"
      ]
     },
     "execution_count": 5,
     "metadata": {},
     "output_type": "execute_result"
    },
    {
     "data": {
      "image/png": "[encoded data removed]",
      "text/plain": [
       "<Figure size 432x288 with 2 Axes>"
      ]
     },
     "metadata": {
      "needs_background": "light"
     },
     "output_type": "display_data"
    }
   ],
   "source": [
    "#analisando os dados para procura dados nulos \n",
    "sns.heatmap(df_test.isnull())"
   ]
  },
  {
   "cell_type": "markdown",
   "metadata": {},
   "source": [
    "## 3.0 -  Entendendo os dados "
   ]
  },
  {
   "cell_type": "markdown",
   "metadata": {},
   "source": [
    "* Tokenize e marque um frase."
   ]
  },
  {
   "cell_type": "code",
   "execution_count": 6,
   "metadata": {},
   "outputs": [
    {
     "data": {
      "text/plain": [
       "['Amortecedor', ',', 'Mola', 'Batente', 'D', 'Dir', 'New', 'Civic', '.']"
      ]
     },
     "execution_count": 6,
     "metadata": {},
     "output_type": "execute_result"
    }
   ],
   "source": [
    "# selecionando um amostra \n",
    "frase = \"Amortecedor, Mola Batente D Dir New Civic.\"\n",
    "dados_sigiloso= nltk.word_tokenize(frase)\n",
    "dados_sigiloso"
   ]
  },
  {
   "cell_type": "code",
   "execution_count": 7,
   "metadata": {},
   "outputs": [],
   "source": [
    "palavras_marcada = nltk.pos_tag(dados_sigiloso)"
   ]
  },
  {
   "cell_type": "code",
   "execution_count": 11,
   "metadata": {},
   "outputs": [
    {
     "data": {
      "text/plain": [
       "[('Amortecedor', 'NNP'),\n",
       " (',', ','),\n",
       " ('Mola', 'NNP'),\n",
       " ('Batente', 'NNP'),\n",
       " ('D', 'NNP'),\n",
       " ('Dir', 'NNP')]"
      ]
     },
     "execution_count": 11,
     "metadata": {},
     "output_type": "execute_result"
    }
   ],
   "source": [
    "#subdividindo\n",
    "palavras_marcada[0:6]\n"
   ]
  },
  {
   "cell_type": "markdown",
   "metadata": {},
   "source": [
    "* Identificar as entidades nomeados:"
   ]
  },
  {
   "cell_type": "code",
   "execution_count": 13,
   "metadata": {},
   "outputs": [
    {
     "data": {
      "image/png": "[encoded data removed]",
      "text/plain": [
       "Tree('S', [Tree('GPE', [('Amortecedor', 'NNP')]), (',', ','), Tree('PERSON', [('Mola', 'NNP'), ('Batente', 'NNP'), ('D', 'NNP'), ('Dir', 'NNP'), ('New', 'NNP'), ('Civic', 'NNP')]), ('.', '.')])"
      ]
     },
     "execution_count": 13,
     "metadata": {},
     "output_type": "execute_result"
    }
   ],
   "source": [
    "#idenficandos as entidades nos dados \n",
    "entidades = nltk.chunk.ne_chunk(palavras_marcada)\n",
    "entidades\n"
   ]
  },
  {
   "cell_type": "markdown",
   "metadata": {},
   "source": [
    "## 3.1-  Extraindo informações do consumo dos clientes."
   ]
  },
  {
   "cell_type": "markdown",
   "metadata": {},
   "source": [
    "\n",
    "* Quais produtos são comprados por países que tem idioma em português."
   ]
  },
  {
   "cell_type": "code",
   "execution_count": 29,
   "metadata": {},
   "outputs": [
    {
     "name": "stdout",
     "output_type": "stream",
     "text": [
      "['Kit Maternidade', 'Trocador De Fraldas', 'Motor Ventoinha ']\n"
     ]
    }
   ],
   "source": [
    "# relacionando os dados \n",
    "daddos =[('Kit Maternidade', 'IN','portuguese'),\n",
    "         ('Trocador De Fraldas', 'IN','portuguese'),\n",
    "         ('Motor Ventoinha ', 'IN','portuguese'),\n",
    "         ('Disco Rigido Externo', 'IN','spanish')]\n",
    "\n",
    "questiona = [e1 for (e1, rel, e2) in daddos if e2=='portuguese']\n",
    "print(questiona)\n",
    "\n"
   ]
  },
  {
   "cell_type": "markdown",
   "metadata": {},
   "source": [
    "## 4.0 Conclusão:"
   ]
  },
  {
   "cell_type": "markdown",
   "metadata": {},
   "source": [
    "    Portanto, os dados são fonte valiosa de informações, se for bem  manuseada, serão uma ótima forma de prevenção contra fraudes e cometidos por criminosos virtuais.Quanto mais dados as empresas tiverem  sobre seus os clientes mais protegidas, ela vai está contra fraude."
   ]
  },
  {
   "cell_type": "markdown",
   "metadata": {},
   "source": [
    "# Referências:"
   ]
  },
  {
   "cell_type": "markdown",
   "metadata": {},
   "source": [
    "[1] Dataset Mercado Livre<https://ml-challenge.mercadolibre.com/downloads>.Acesso 29,junho , 2020."
   ]
  },
  {
   "cell_type": "markdown",
   "metadata": {},
   "source": [
    "[2]Antifraude Mercado Pago.<https://conteudo.mercadopago.com.br/antifraude-mercado-pago-como-funciona-o-sistema-que-cuida-bem-do-seu-dinheiro>.Acesso 30 Junho 2020."
   ]
  },
  {
   "cell_type": "markdown",
   "metadata": {},
   "source": [
    "[3] Bird, Steven, Edward Loper e Ewan Klein(2009), Processamento de Linguagem natural com Python.\n",
    "O'Reilly Media Inc."
   ]
  },
  {
   "cell_type": "markdown",
   "metadata": {},
   "source": [
    "[4] Bibliotecas pandas<https://pandas.pydata.org/>.Acesso 29 junho, 2020."
   ]
  },
  {
   "cell_type": "markdown",
   "metadata": {},
   "source": [
    "[5] Bibliotecas visualização Seaborn <https://seaborn.pydata.org/>.Acesso 29 , junho, 2020.\n"
   ]
  },
  {
   "cell_type": "markdown",
   "metadata": {},
   "source": [
    "[6] Bibliotecas de Analise.<https://numpy.org/>.Acesso 29, junho, 2020.\n"
   ]
  },
  {
   "cell_type": "markdown",
   "metadata": {},
   "source": [
    "[7] Módulos da biblioteca NLTK <https://raw.githubusercontent.com/nltk/nltk_data/gh-pages/index.xml>.Acesso 29 junho, 2020."
   ]
  },
  {
   "cell_type": "markdown",
   "metadata": {},
   "source": [
    "[8] O que biometria, UFRJ<https://www.gta.ufrj.br/grad/10_1/retina/oqueebiometria.html>.Acesso 30, Junho 2020."
   ]
  },
  {
   "cell_type": "code",
   "execution_count": null,
   "metadata": {},
   "outputs": [],
   "source": [
    "[9] Repositório_do_time(32)<>"
   ]
  }
 ],
 "metadata": {
  "kernelspec": {
   "display_name": "Python 2",
   "language": "python",
   "name": "python2"
  },
  "language_info": {
   "codemirror_mode": {
    "name": "ipython",
    "version": 2
   },
   "file_extension": ".py",
   "mimetype": "text/x-python",
   "name": "python",
   "nbconvert_exporter": "python",
   "pygments_lexer": "ipython2",
   "version": "2.7.16"
  }
 },
 "nbformat": 4,
 "nbformat_minor": 2
}
